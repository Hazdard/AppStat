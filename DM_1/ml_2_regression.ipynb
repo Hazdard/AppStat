{
 "cells": [
  {
   "cell_type": "markdown",
   "metadata": {},
   "source": [
    "This tour studies linear regression method in conjunction with\n",
    "regularization.\n",
    "It contrasts ridge regression and the Lasso."
   ]
  },
  {
   "cell_type": "markdown",
   "metadata": {},
   "source": [
    "We recommend that after doing this Numerical Tours, you apply it to your\n",
    "own data, for instance using a dataset from [LibSVM](https://www.csie.ntu.edu.tw/~cjlin/libsvmtools/datasets/) or [Kaggle](https://www.kaggle.com/).\n",
    "\n",
    "_Disclaimer:_ these machine learning tours are intended to be\n",
    "overly-simplistic implementations and applications of baseline machine learning methods.\n",
    "For more advanced uses and implementations, we recommend\n",
    "to use a state-of-the-art library, the most well known being\n",
    "[Scikit-Learn](http://scikit-learn.org/). "
   ]
  },
  {
   "cell_type": "code",
   "execution_count": 1,
   "metadata": {},
   "outputs": [],
   "source": [
    "%matplotlib inline\n",
    "import numpy as np\n",
    "import matplotlib.pyplot as plt\n",
    "%load_ext autoreload\n",
    "%autoreload 2"
   ]
  },
  {
   "cell_type": "code",
   "execution_count": 2,
   "metadata": {},
   "outputs": [],
   "source": [
    "# Use this code to read from a CSV file.\n",
    "#import pandas as pd\n",
    "#U = pd.read_csv('myfile.csv')"
   ]
  },
  {
   "cell_type": "markdown",
   "metadata": {},
   "source": [
    "Usefull functions to convert to a column/row vectors."
   ]
  },
  {
   "cell_type": "code",
   "execution_count": 3,
   "metadata": {},
   "outputs": [],
   "source": [
    "#  convert to a column vector\n",
    "def MakeCol(y): return y.reshape(-1,1)\n",
    "#  convert to a row vector\n",
    "def MakeRow(y): return y.reshape(1,-1)\n",
    "# find non zero/true elements\n",
    "def find(x): return np.nonzero(x)[0]"
   ]
  },
  {
   "cell_type": "markdown",
   "metadata": {},
   "source": [
    "Dataset Loading\n",
    "---------------\n",
    "We test the method on the prostate dataset in $n=97$ samples with\n",
    "features $x_i \\in \\RR^p$ in dimension $p=8$. The goal is to predict the price value\n",
    "$y_i \\in \\RR$."
   ]
  },
  {
   "cell_type": "markdown",
   "metadata": {},
   "source": [
    "Load the dataset."
   ]
  },
  {
   "cell_type": "code",
   "execution_count": 5,
   "metadata": {},
   "outputs": [],
   "source": [
    "from scipy import io\n",
    "name = 'prostate';\n",
    "Data = io.loadmat('/home/hazdard/ENS/AppStat/DM_1/numerical-tours/python/nt_toolbox/data/ml-' + name)\n",
    "Ay = Data['A']\n",
    "class_names = Data['class_names']"
   ]
  },
  {
   "cell_type": "markdown",
   "metadata": {},
   "source": [
    "Randomly permute it."
   ]
  },
  {
   "cell_type": "code",
   "execution_count": 6,
   "metadata": {},
   "outputs": [],
   "source": [
    "Ay = Ay[np.random.permutation(Ay.shape[0]),:]"
   ]
  },
  {
   "cell_type": "markdown",
   "metadata": {},
   "source": [
    "Separate the features $X$ from the data $y$ to predict information."
   ]
  },
  {
   "cell_type": "code",
   "execution_count": 7,
   "metadata": {},
   "outputs": [],
   "source": [
    "A_full = Ay[:,0:-2];\n",
    "y_full = MakeCol( Ay[:,-2] )\n",
    "c = MakeCol( Ay[:,-1] )"
   ]
  },
  {
   "cell_type": "markdown",
   "metadata": {},
   "source": [
    "Split into training and testing."
   ]
  },
  {
   "cell_type": "code",
   "execution_count": 8,
   "metadata": {},
   "outputs": [],
   "source": [
    "I0 = find(c==1) # train\n",
    "I1 = find(c==0) # test\n",
    "n = I0.size\n",
    "n1 = n-n\n",
    "A = A_full[I0,:]\n",
    "y = y_full[I0]\n",
    "A1 = A_full[I1,:]\n",
    "y1 = y_full[I1]"
   ]
  },
  {
   "cell_type": "markdown",
   "metadata": {},
   "source": [
    "$n$ is the total number of samples, $p$ is the dimensionality of the features,"
   ]
  },
  {
   "cell_type": "code",
   "execution_count": 9,
   "metadata": {},
   "outputs": [
    {
     "name": "stdout",
     "output_type": "stream",
     "text": [
      "67 8\n"
     ]
    }
   ],
   "source": [
    "[n,p] = A.shape\n",
    "print(n,p)"
   ]
  },
  {
   "cell_type": "markdown",
   "metadata": {},
   "source": [
    "Normalize the features by the mean and std of the *training* set.\n",
    "This is optional."
   ]
  },
  {
   "cell_type": "code",
   "execution_count": 10,
   "metadata": {},
   "outputs": [],
   "source": [
    "mA = A.mean(axis=0)\n",
    "sA = A.std(axis=0)\n",
    "A = (A-mA)/sA\n",
    "A1 = (A1-mA)/sA"
   ]
  },
  {
   "cell_type": "markdown",
   "metadata": {},
   "source": [
    "Remove the mean (computed from the *test* set) to avoid introducing a bias term and a constant regressor.\n",
    "This is optional."
   ]
  },
  {
   "cell_type": "code",
   "execution_count": 11,
   "metadata": {},
   "outputs": [],
   "source": [
    "m = y.mean()\n",
    "y = y-m\n",
    "y1 = y1-m"
   ]
  },
  {
   "cell_type": "markdown",
   "metadata": {},
   "source": [
    "Dimenionality Reduction and PCA\n",
    "-------------------------------\n",
    "In order to display in 2-D or 3-D the data, dimensionality reduction is needed.\n",
    "The simplest method is the principal components analysis (PCA), which performs an\n",
    "orthogonal linear projection on the principal axes (eigenvectors) of the\n",
    "covariance matrix.\n",
    "\n",
    "Display the covariance matrix of the training set."
   ]
  },
  {
   "cell_type": "code",
   "execution_count": 12,
   "metadata": {},
   "outputs": [
    {
     "data": {
      "image/png": "[encoded data removed]",
      "text/plain": [
       "<Figure size 640x480 with 1 Axes>"
      ]
     },
     "metadata": {},
     "output_type": "display_data"
    }
   ],
   "source": [
    "C = A.transpose().dot(A)\n",
    "plt.imshow(C);"
   ]
  },
  {
   "cell_type": "code",
   "execution_count": 13,
   "metadata": {},
   "outputs": [
    {
     "data": {
      "image/png": "[encoded data removed]",
      "text/plain": [
       "<Figure size 640x480 with 1 Axes>"
      ]
     },
     "metadata": {},
     "output_type": "display_data"
    }
   ],
   "source": [
    "u = A.transpose().dot(y)\n",
    "plt.clf\n",
    "plt.bar(np.arange(1,p+1),u.flatten())\n",
    "plt.axis('tight');"
   ]
  },
  {
   "cell_type": "markdown",
   "metadata": {},
   "source": [
    "Compute PCA ortho-basis and\n",
    "the feature in the PCA basis."
   ]
  },
  {
   "cell_type": "code",
   "execution_count": 14,
   "metadata": {},
   "outputs": [],
   "source": [
    "U, s, V = np.linalg.svd(A)\n",
    "Ar = A.dot( V.transpose() )"
   ]
  },
  {
   "cell_type": "markdown",
   "metadata": {},
   "source": [
    "Plot sqrt of the eigenvalues."
   ]
  },
  {
   "cell_type": "code",
   "execution_count": 15,
   "metadata": {},
   "outputs": [
    {
     "data": {
      "image/png": "[encoded data removed]",
      "text/plain": [
       "<Figure size 640x480 with 1 Axes>"
      ]
     },
     "metadata": {},
     "output_type": "display_data"
    }
   ],
   "source": [
    "plt.plot(s, '.-');"
   ]
  },
  {
   "cell_type": "markdown",
   "metadata": {},
   "source": [
    "Display the features."
   ]
  },
  {
   "cell_type": "code",
   "execution_count": 16,
   "metadata": {},
   "outputs": [
    {
     "data": {
      "image/png": "[encoded data removed]",
      "text/plain": [
       "<Figure size 640x480 with 64 Axes>"
      ]
     },
     "metadata": {},
     "output_type": "display_data"
    }
   ],
   "source": [
    "pmax = min(p,8)\n",
    "k = 0\n",
    "plt.clf\n",
    "for i in np.arange(0,pmax):\n",
    "    for j in np.arange(0,pmax):\n",
    "        k = k+1\n",
    "        plt.subplot(pmax,pmax,k)\n",
    "        if i==j:\n",
    "            plt.hist(A[:,i],6)\n",
    "            plt.axis('tight')\n",
    "        else:\n",
    "            plt.plot(A[:,j],A[:,i], '.')\n",
    "        plt.axis('tight')\n",
    "        if i==1:\n",
    "            plt.title(class_names[0][j][0])\n",
    "        plt.tick_params(axis='x', labelbottom=False)\n",
    "        plt.tick_params(axis='y', labelleft=False)"
   ]
  },
  {
   "cell_type": "markdown",
   "metadata": {},
   "source": [
    "Display the points cloud of feature vectors in 2-D PCA space."
   ]
  },
  {
   "cell_type": "code",
   "execution_count": 17,
   "metadata": {},
   "outputs": [
    {
     "data": {
      "image/png": "[encoded data removed]",
      "text/plain": [
       "<Figure size 640x480 with 1 Axes>"
      ]
     },
     "metadata": {},
     "output_type": "display_data"
    }
   ],
   "source": [
    "plt.plot(Ar[:,0], Ar[:,1], '.')\n",
    "plt.axis('equal');"
   ]
  },
  {
   "cell_type": "markdown",
   "metadata": {},
   "source": [
    "1D plot of the function to regress along the main eigenvector axes."
   ]
  },
  {
   "cell_type": "code",
   "execution_count": 18,
   "metadata": {},
   "outputs": [
    {
     "data": {
      "image/png": "[encoded data removed]",
      "text/plain": [
       "<Figure size 640x480 with 3 Axes>"
      ]
     },
     "metadata": {},
     "output_type": "display_data"
    }
   ],
   "source": [
    "plt.clf\n",
    "for i in np.arange(0,3):\n",
    "    plt.subplot(3,1,i+1)\n",
    "    plt.plot(Ar[:,i], y, '.')\n",
    "    plt.axis('tight')"
   ]
  },
  {
   "cell_type": "markdown",
   "metadata": {},
   "source": [
    "Linear Regression\n",
    "-----------------\n",
    "We look for a linear relationship\n",
    "  $ y_i \\approx \\dotp{x}{a_i} $\n",
    "written in matrix format\n",
    "  $ y= A x $\n",
    "where the rows of $A \\in \\RR^{n \\times p}$ stores the features $a_i \\in \\RR^p$.\n",
    "\n",
    "\n",
    "Since here $n > p$, this is an over-determined system, which can\n",
    "solved in the least square sense\n",
    "  $$ \\umin{ x }  \\norm{Ax-y}^2 $$\n",
    "whose solution is given using the Moore-Penrose pseudo-inverse\n",
    "  $$ x = (A^\\top A)^{-1} A^\\top y $$\n",
    "\n",
    "\n",
    "Compute the least square solution."
   ]
  },
  {
   "cell_type": "code",
   "execution_count": 19,
   "metadata": {},
   "outputs": [],
   "source": [
    "x = np.linalg.solve( A.transpose().dot(A), A.transpose().dot(y) )"
   ]
  },
  {
   "cell_type": "markdown",
   "metadata": {},
   "source": [
    "Prediction (along 1st eigenvector)."
   ]
  },
  {
   "cell_type": "code",
   "execution_count": 20,
   "metadata": {},
   "outputs": [
    {
     "data": {
      "image/png": "[encoded data removed]",
      "text/plain": [
       "<Figure size 640x480 with 1 Axes>"
      ]
     },
     "metadata": {},
     "output_type": "display_data"
    }
   ],
   "source": [
    "plt.clf\n",
    "plt.plot( A1.dot(x), '.-' )\n",
    "plt.plot( y1, '.-' )\n",
    "plt.axis('tight')\n",
    "plt.legend(('$y_1$', '$X_1 w$'));"
   ]
  },
  {
   "cell_type": "markdown",
   "metadata": {},
   "source": [
    "Mean-square error on testing set."
   ]
  },
  {
   "cell_type": "code",
   "execution_count": 21,
   "metadata": {},
   "outputs": [
    {
     "name": "stdout",
     "output_type": "stream",
     "text": [
      "Relative prediction error: 0.7023447693100113\n"
     ]
    }
   ],
   "source": [
    "E = np.linalg.norm(A1.dot(x)-y1) / np.linalg.norm(y1)\n",
    "print(( 'Relative prediction error: ' + str(E) ) );"
   ]
  },
  {
   "cell_type": "markdown",
   "metadata": {},
   "source": [
    "Although this is not an effective method to solve this problem (a more efficient approach is to use for instance conjugate gradient), one can do a gradient descent to minimize the function\n",
    "$$ \n",
    "    \\min_x f(x) = \\frac{1}{2}\\norm{A x-y}^2.\n",
    "$$"
   ]
  },
  {
   "cell_type": "code",
   "execution_count": 22,
   "metadata": {},
   "outputs": [],
   "source": [
    "def f(x): return 1/2*np.linalg.norm(A.dot(x)-y)**2"
   ]
  },
  {
   "cell_type": "markdown",
   "metadata": {},
   "source": [
    "The gradient of $f$ is\n",
    "$$\n",
    "    \\nabla f(x) = A^\\top (Ax - y).\n",
    "$$"
   ]
  },
  {
   "cell_type": "code",
   "execution_count": 23,
   "metadata": {},
   "outputs": [],
   "source": [
    "def Gradf(x): return A.transpose().dot(A.dot(x)-y)"
   ]
  },
  {
   "cell_type": "markdown",
   "metadata": {},
   "source": [
    "The maxium step size allowable by the gradient descent is \n",
    "$$\n",
    "    \\tau \\leq \\tau_\\max \\eqdef \\frac{2}{\\norm{AA^\\top}_{op}}\n",
    "$$\n",
    "where $\\norm{\\cdot}_{op}$ is the maximum singular eigenvalue."
   ]
  },
  {
   "cell_type": "code",
   "execution_count": 24,
   "metadata": {},
   "outputs": [],
   "source": [
    "tau = 1/np.linalg.norm(A,2)**2"
   ]
  },
  {
   "cell_type": "markdown",
   "metadata": {},
   "source": [
    "Initialize the algorithm to $x=0$."
   ]
  },
  {
   "cell_type": "code",
   "execution_count": 25,
   "metadata": {},
   "outputs": [],
   "source": [
    "x = np.zeros((p,1))"
   ]
  },
  {
   "cell_type": "markdown",
   "metadata": {},
   "source": [
    "One step of gradient descent reads:\n",
    "$$  x \\leftarrow x - \\tau \\nabla f(x). $$"
   ]
  },
  {
   "cell_type": "code",
   "execution_count": 26,
   "metadata": {},
   "outputs": [],
   "source": [
    "x = x - tau*Gradf(x)"
   ]
  },
  {
   "cell_type": "code",
   "execution_count": 27,
   "metadata": {},
   "outputs": [],
   "source": [
    "tau_mult = [.1, .5, 1, 1.8]"
   ]
  },
  {
   "cell_type": "markdown",
   "metadata": {},
   "source": [
    "__Exercise 0:__ Display the evolution of the training error $f(x)$ as a function of the number of iterations. Test for diffetent values of $\\tau$."
   ]
  },
  {
   "cell_type": "code",
   "execution_count": 30,
   "metadata": {},
   "outputs": [],
   "source": [
    "run -i /home/hazdard/ENS/AppStat/DM_1/numerical-tours/python/nt_solutions/ml_2_regression/exo0"
   ]
  },
  {
   "cell_type": "markdown",
   "metadata": {},
   "source": [
    "The optimal step size to minimize a quadratic function $\\dotp{C w}{w}$ is\n",
    "$$\n",
    "\\tau_{\\text{opt}} = \\frac{2}{\\sigma_\\min(C) + \\sigma_\\max(C)}\n",
    "$$"
   ]
  },
  {
   "cell_type": "code",
   "execution_count": 31,
   "metadata": {},
   "outputs": [
    {
     "name": "stdout",
     "output_type": "stream",
     "text": [
      "Optimal tau = 1.9032630425437516 / |AA^T|\n"
     ]
    }
   ],
   "source": [
    "C = A.transpose().dot(A)\n",
    "tau_opt = 2 / ( np.linalg.norm(C,2) + np.linalg.norm(C,-2) )\n",
    "print(( 'Optimal tau = ' + str( tau_opt * np.linalg.norm(A,2)**2 ) ) + ' / |AA^T|' );"
   ]
  },
  {
   "cell_type": "markdown",
   "metadata": {},
   "source": [
    "Stochastic Gradient Method\n",
    "=======\n",
    "\n",
    "We use SGD (which is *not* actually a descent algorithm) to minimize the quadratic risk\n",
    "$$ \\umin{x} f(x) \\eqdef \\frac{1}{n} \\sum_{i=1}^n f_i(x) = \\frac{1}{n} \\sum_{i=1}^n \\frac{1}{2} ( \\dotp{x}{a_i}-y_i )^2 $$\n",
    "where we used\n",
    "$$ f_i(x) \\eqdef \\frac{1}{2} ( \\dotp{x}{a_i}-y_i )^2$$\n",
    "The algorithm reads\n",
    "$$ x_{k+1} = x_k - \\tau_k \\nabla f_{i_k}(x_k)$$\n",
    "where at each iteration $i_k$ is drawn in $\\{1,\\ldots,n\\}$ uniformly at random.\n"
   ]
  },
  {
   "cell_type": "code",
   "execution_count": 32,
   "metadata": {},
   "outputs": [],
   "source": [
    "x = np.zeros((p,1))"
   ]
  },
  {
   "cell_type": "markdown",
   "metadata": {},
   "source": [
    "Draw $i_k$ are random. "
   ]
  },
  {
   "cell_type": "code",
   "execution_count": 33,
   "metadata": {},
   "outputs": [],
   "source": [
    "ik = int( np.floor(np.random.rand()*n) )"
   ]
  },
  {
   "cell_type": "markdown",
   "metadata": {},
   "source": [
    "Compute $\\nabla f_{i_k}(x)$."
   ]
  },
  {
   "cell_type": "code",
   "execution_count": 34,
   "metadata": {},
   "outputs": [],
   "source": [
    "gk = (A[ik,:].dot(x)-y[ik]) * A[ik,:].transpose()"
   ]
  },
  {
   "cell_type": "markdown",
   "metadata": {},
   "source": [
    "Set the step size $\\tau_k$ (for convergence is should converge to 0) and perform the update."
   ]
  },
  {
   "cell_type": "code",
   "execution_count": 35,
   "metadata": {},
   "outputs": [],
   "source": [
    "tauk = 1/np.linalg.norm(A,2)**2\n",
    "x = x - tauk * gk"
   ]
  },
  {
   "cell_type": "markdown",
   "metadata": {},
   "source": [
    "__Exercise SGD1:__ Test different *fixed* step size $\\tau_k=\\tau$. "
   ]
  },
  {
   "cell_type": "code",
   "execution_count": 38,
   "metadata": {},
   "outputs": [],
   "source": [
    "run -i /home/hazdard/ENS/AppStat/DM_1/numerical-tours/python/nt_solutions/ml_2_regression/exo_sgd1.py"
   ]
  },
  {
   "cell_type": "markdown",
   "metadata": {},
   "source": [
    "__Exercise SGD2:__ Average on different runs to see the impact of the step size."
   ]
  },
  {
   "cell_type": "code",
   "execution_count": 39,
   "metadata": {},
   "outputs": [],
   "source": [
    "run -i /home/hazdard/ENS/AppStat/DM_1/numerical-tours/python/nt_solutions/ml_2_regression/exo_sgd2.py"
   ]
  },
  {
   "cell_type": "markdown",
   "metadata": {},
   "source": [
    "__Exercise SGD3:__ Use a decaying step size $\\tau_k=\\frac{\\tau_0}{1+k/k_0}$."
   ]
  },
  {
   "cell_type": "code",
   "execution_count": 41,
   "metadata": {},
   "outputs": [
    {
     "name": "stdout",
     "output_type": "stream",
     "text": [
      "[14.04511994]\n"
     ]
    }
   ],
   "source": [
    "run -i /home/hazdard/ENS/AppStat/DM_1/numerical-tours/python/nt_solutions/ml_2_regression/exo_sgd3.py"
   ]
  },
  {
   "cell_type": "markdown",
   "metadata": {},
   "source": [
    "__Exercise SGD4:__ Use a decaying step size $\\tau_k=\\frac{\\tau_0}{1+\\sqrt{k/k_0}}$ and average the iteration $\\frac{1}{K}\\sum_{k<K}x_k$."
   ]
  },
  {
   "cell_type": "code",
   "execution_count": 43,
   "metadata": {},
   "outputs": [],
   "source": [
    "run -i /home/hazdard/ENS/AppStat/DM_1/numerical-tours/python/nt_solutions/ml_2_regression/exo_sgd4.py"
   ]
  },
  {
   "cell_type": "markdown",
   "metadata": {},
   "source": [
    "\n",
    "Ridge Regularization\n",
    "=======\n",
    "\n",
    "Regularization is obtained by introducing a penalty. It is often called\n",
    "ridge regression, and is defined as\n",
    "  $$ \\umin{ x }  \\norm{Ax-y}^2 + \\lambda \\norm{x}^2 $$\n",
    "where $\\lambda>0$ is the regularization parameter.\n",
    "\n",
    "\n",
    "The solution is given using the following equivalent formula\n",
    "  $$ x = (A^\\top A + \\lambda \\text{Id}_p )^{-1} A^\\top y, $$\n",
    "  $$ x = A^\\top ( AA^\\top + \\lambda \\text{Id}_n)^{-1} y, $$\n",
    "When $p<n$ (which is the case here), the first formula should be\n",
    "prefered.\n",
    "\n",
    "\n",
    "In contrast, when the dimensionality $p$ of the feature is very\n",
    "large and there is little data, the second is faster. Furthermore, this\n",
    "second expression is generalizable to Kernel Hilbert space setting,\n",
    "corresponding possibly to $p=+\\infty$ for some kernels."
   ]
  },
  {
   "cell_type": "code",
   "execution_count": 44,
   "metadata": {},
   "outputs": [
    {
     "name": "stdout",
     "output_type": "stream",
     "text": [
      "Error (should be 0): 4.045830295886137e-16\n"
     ]
    }
   ],
   "source": [
    "Lambda = .2*np.linalg.norm(A)**2;\n",
    "x = np.linalg.solve( A.transpose().dot(A) + Lambda*np.eye(p), A.transpose().dot(y) )\n",
    "u = np.linalg.solve( A.dot(A.transpose()) + Lambda*np.eye(n), y )\n",
    "x1 = A.transpose().dot( u )\n",
    "print( ('Error (should be 0): ' + str( np.linalg.norm(x-x1)/np.linalg.norm(x) ) ) )"
   ]
  },
  {
   "cell_type": "markdown",
   "metadata": {},
   "source": [
    "__Exercise 1:__ Display the evolution of the test error $E$ as a function of $\\lambda$."
   ]
  },
  {
   "cell_type": "code",
   "execution_count": 47,
   "metadata": {},
   "outputs": [
    {
     "name": "stdout",
     "output_type": "stream",
     "text": [
      "Ridge: 67.90672125664281%\n"
     ]
    }
   ],
   "source": [
    "run -i /home/hazdard/ENS/AppStat/DM_1/numerical-tours/python/nt_solutions/ml_2_regression/exo1"
   ]
  },
  {
   "cell_type": "markdown",
   "metadata": {},
   "source": [
    "__Exercise 2:__ Display the regularization path, i.e. the evolution of $w$ as a function\n",
    "of $\\lambda$."
   ]
  },
  {
   "cell_type": "code",
   "execution_count": 48,
   "metadata": {},
   "outputs": [],
   "source": [
    "run -i /home/hazdard/ENS/AppStat/DM_1/numerical-tours/python/nt_solutions/ml_2_regression/exo2"
   ]
  },
  {
   "cell_type": "markdown",
   "metadata": {},
   "source": [
    "Sparse Regularization\n",
    "---------------------\n",
    "In order to perform feature selection (i.e. select a subsect of the\n",
    "features which are the most predictive), one needs to replace the\n",
    "$\\ell^2$ regularization penalty by a sparsity inducing regularizer. The\n",
    "most well known is the $\\ell^1$ norm\n",
    "$$ \\norm{x}_1 \\eqdef \\sum_i \\abs{x_i} . $$\n",
    "\n",
    "\n",
    "The energy to minimize is\n",
    "$$ \\umin{x} f(x) \\eqdef \\frac{1}{2}\\norm{Ax-y}^2 + \\lambda \\norm{x}_1. $$"
   ]
  },
  {
   "cell_type": "code",
   "execution_count": 49,
   "metadata": {},
   "outputs": [],
   "source": [
    "def f(x,Lambda): return 1/2*np.linalg.norm(A.dot(x)-y)**2 + Lambda*np.linalg.norm(x,1)"
   ]
  },
  {
   "cell_type": "markdown",
   "metadata": {},
   "source": [
    "The simplest iterative algorithm to perform the minimization is the\n",
    "so-called iterative soft thresholding (ISTA), aka proximal gradient aka\n",
    "forward-backward.\n",
    "\n",
    "\n",
    "It performs first a gradient step (forward) of the smooth part $\\frac{1}{2}\\norm{X w-y}^2$ of the\n",
    "functional and then a proximal step (backward) step which account for the\n",
    "$\\ell^1$ penalty and induce sparsity. This proximal step is the soft-thresholding operator\n",
    "$$ \\Ss_s(x) \\eqdef \\max( \\abs{x}-\\lambda,0 ) \\text{sign}(x).  $$"
   ]
  },
  {
   "cell_type": "code",
   "execution_count": 50,
   "metadata": {},
   "outputs": [],
   "source": [
    "def Soft(x,s): return np.maximum( abs(x)-s, np.zeros(x.shape)  ) * np.sign(x)"
   ]
  },
  {
   "cell_type": "markdown",
   "metadata": {},
   "source": [
    "The ISTA algorithm reads\n",
    "$$ x_{k+1} \\eqdef \\Ss_{\\la\\tau}( x_k - \\tau A^\\top ( A x_k - y )  ), $$\n",
    "where, to ensure convergence, the step size should verify $ 0 < \\tau <\n",
    "2/\\norm{A}^2  $ where $\\norm{A}$ is the operator norm.\n",
    "\n",
    "\n",
    "Display the soft thresholding operator."
   ]
  },
  {
   "cell_type": "code",
   "execution_count": 51,
   "metadata": {},
   "outputs": [],
   "source": [
    "t = np.linspace(-5,5,201)\n",
    "plt.clf\n",
    "plt.plot(t,Soft(t,2)) \n",
    "plt.axis('tight');"
   ]
  },
  {
   "cell_type": "markdown",
   "metadata": {},
   "source": [
    "Descent step size."
   ]
  },
  {
   "cell_type": "code",
   "execution_count": 52,
   "metadata": {},
   "outputs": [],
   "source": [
    "tau = 1.5/np.linalg.norm(A,2)**2"
   ]
  },
  {
   "cell_type": "markdown",
   "metadata": {},
   "source": [
    "Choose a regularization parameter $\\la$."
   ]
  },
  {
   "cell_type": "code",
   "execution_count": 53,
   "metadata": {},
   "outputs": [],
   "source": [
    "lmax = abs( A.transpose().dot(y) ).max()\n",
    "Lambda = lmax /10"
   ]
  },
  {
   "cell_type": "markdown",
   "metadata": {},
   "source": [
    "Initialization $w_0$."
   ]
  },
  {
   "cell_type": "code",
   "execution_count": 54,
   "metadata": {},
   "outputs": [],
   "source": [
    "x = np.zeros((p,1))"
   ]
  },
  {
   "cell_type": "markdown",
   "metadata": {},
   "source": [
    "A single ISTA step."
   ]
  },
  {
   "cell_type": "code",
   "execution_count": 55,
   "metadata": {},
   "outputs": [],
   "source": [
    "C = A.transpose().dot(A)\n",
    "u = A.transpose().dot(y)\n",
    "def ISTA(x,Lambda,tau): return Soft( x-tau*( C.dot(x)-u ), Lambda*tau )\n",
    "x = ISTA(x,Lambda,tau)"
   ]
  },
  {
   "cell_type": "markdown",
   "metadata": {},
   "source": [
    "__Exercise 3:__ Implement the ISTA algorithm, display the convergence of the energy."
   ]
  },
  {
   "cell_type": "code",
   "execution_count": 59,
   "metadata": {},
   "outputs": [],
   "source": [
    "run -i /home/hazdard/ENS/AppStat/DM_1/numerical-tours/python/nt_solutions/ml_2_regression/exo3"
   ]
  },
  {
   "cell_type": "markdown",
   "metadata": {},
   "source": [
    "__Exercise 4:__ Compute the test error along the full regularization path. You can start by large $\\lambda$ and use a warm restart procedure to reduce the computation time. Compute the classification error.\n",
    "ind optimal lambda isplay error evolution."
   ]
  },
  {
   "cell_type": "code",
   "execution_count": 60,
   "metadata": {},
   "outputs": [
    {
     "name": "stdout",
     "output_type": "stream",
     "text": [
      "Lasso: 65.42184378732036%\n"
     ]
    }
   ],
   "source": [
    "run -i /home/hazdard/ENS/AppStat/DM_1/numerical-tours/python/nt_solutions/ml_2_regression/exo4"
   ]
  },
  {
   "cell_type": "markdown",
   "metadata": {},
   "source": [
    "__Exercise 5:__ Display the regularization path, i.e. the evolution of $w$ as a function\n",
    "of $\\lambda$."
   ]
  },
  {
   "cell_type": "code",
   "execution_count": 61,
   "metadata": {},
   "outputs": [],
   "source": [
    "run -i /home/hazdard/ENS/AppStat/DM_1/numerical-tours/python/nt_solutions/ml_2_regression/exo5"
   ]
  },
  {
   "cell_type": "markdown",
   "metadata": {},
   "source": [
    "__Exercise 6:__ Compare the optimal weights for ridge and lasso."
   ]
  },
  {
   "cell_type": "code",
   "execution_count": 62,
   "metadata": {},
   "outputs": [],
   "source": [
    "run -i /home/hazdard/ENS/AppStat/DM_1/numerical-tours/python/nt_solutions/ml_2_regression/exo8"
   ]
  },
  {
   "cell_type": "markdown",
   "metadata": {},
   "source": [
    "<script>\n",
    "  $(document).ready(function(){\n",
    "      $('div.prompt').hide();\n",
    "  });\n",
    "</script>"
   ]
  },
  {
   "cell_type": "raw",
   "metadata": {},
   "source": [
    "<script>\n",
    "  $(document).ready(function(){\n",
    "      $('div.prompt').hide();\n",
    "  });\n",
    "</script>"
   ]
  },
  {
   "cell_type": "code",
   "execution_count": null,
   "metadata": {},
   "outputs": [],
   "source": []
  }
 ],
 "metadata": {
  "kernelspec": {
   "display_name": "Python 3 (ipykernel)",
   "language": "python",
   "name": "python3"
  },
  "language_info": {
   "codemirror_mode": {
    "name": "ipython",
    "version": 3
   },
   "file_extension": ".py",
   "mimetype": "text/x-python",
   "name": "python",
   "nbconvert_exporter": "python",
   "pygments_lexer": "ipython3",
   "version": "3.11.2"
  }
 },
 "nbformat": 4,
 "nbformat_minor": 1
}
